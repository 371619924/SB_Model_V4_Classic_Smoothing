{
 "cells": [
  {
   "cell_type": "code",
   "execution_count": 1,
   "id": "4bd54106",
   "metadata": {},
   "outputs": [],
   "source": [
    "\n",
    "import numpy as np\n",
    "import matplotlib.pyplot as plt\n",
    "from collections import deque\n"
   ]
  },
  {
   "cell_type": "markdown",
   "id": "fde36c4a",
   "metadata": {},
   "source": [
    "\n",
    "### OFC Model Implementation\n",
    "This notebook provides a minimalistic implementation of the OFC (Olami-Feder-Christensen) model, often used in modeling earthquake dynamics.\n",
    "\n",
    "Key components of this model include:\n",
    "- **Threshold stress** for each site, which determines when it \"fails.\"\n",
    "- **Dissipation parameter (alpha)**, which controls how stress is redistributed after a failure.\n",
    "- **Lattice structure** that represents the spatial distribution of stress levels across sites.\n",
    "\n",
    "The model is initialized with random stress values at each site, and sites with stress values exceeding the threshold trigger stress redistribution to neighboring sites.\n"
   ]
  },
  {
   "cell_type": "code",
   "execution_count": 7,
   "id": "d394b475",
   "metadata": {},
   "outputs": [],
   "source": [
    "\n",
    "class OFC:\n",
    "    def __init__(self, threshold, alpha, lattice_size, rng_seed=None):\n",
    "        \"\"\"Initialize OFC model with parameters and random lattice stress values.\"\"\"\n",
    "        # Seed for reproducibility\n",
    "        self.rng = np.random.default_rng(rng_seed)\n",
    "        self.threshold = threshold\n",
    "        self.alpha = alpha\n",
    "        self.lattice_size = lattice_size\n",
    "        # Initialize lattice with random stress values between 0 and threshold\n",
    "        self.lattice = self.threshold * self.rng.random((lattice_size, lattice_size))\n",
    "        self.event_history = []\n",
    "\n",
    "    def get_neighbors(self, site):\n",
    "        \"\"\"Retrieve neighbors for a given site (row, col) assuming open boundary conditions.\"\"\"\n",
    "        neighbors = []\n",
    "        if site[0] < self.lattice_size - 1:\n",
    "            neighbors.append((site[0] + 1, site[1]))\n",
    "        if site[1] < self.lattice_size - 1:\n",
    "            neighbors.append((site[0], site[1] + 1))\n",
    "        if site[0] > 0:\n",
    "            neighbors.append((site[0] - 1, site[1]))\n",
    "        if site[1] > 0:\n",
    "            neighbors.append((site[0], site[1] - 1))\n",
    "        return neighbors\n",
    "\n",
    "    def drive_plate(self):\n",
    "        \"\"\"Increase stress on the lattice until failure and propagate avalanche.\"\"\"\n",
    "        active_sites = deque()\n",
    "        max_value = np.max(self.lattice)\n",
    "        active_sites.append(np.unravel_index(np.argmax(self.lattice), self.lattice.shape))\n",
    "        self.lattice += (self.threshold - max_value)\n",
    "        event_size = 0\n",
    "        while active_sites:\n",
    "            current_site = active_sites.popleft()\n",
    "            if self.lattice[current_site] >= self.threshold:\n",
    "                neighbors = self.get_neighbors(current_site)\n",
    "                for neighbor in neighbors:\n",
    "                    self.lattice[neighbor] += self.alpha * self.lattice[current_site]\n",
    "                    active_sites.append(neighbor)\n",
    "                self.lattice[current_site] = 0\n",
    "                event_size += 1\n",
    "        return event_size\n",
    "\n",
    "    def simulate(self, num_events, transient=0):\n",
    "        \"\"\"Run model for a given number of events, optionally with transient steps.\"\"\"\n",
    "        for _ in range(transient):\n",
    "            _ = self.drive_plate()\n",
    "        for _ in range(num_events):\n",
    "            event_size = self.drive_plate()\n",
    "            self.event_history.append(event_size)\n",
    "        return self.event_history\n"
   ]
  },
  {
   "cell_type": "markdown",
   "id": "03fe1737",
   "metadata": {},
   "source": [
    "\n",
    "### Running the Model\n",
    "Define the parameters for the OFC model, create an instance, and run a simulation. \n",
    "The simulation will store the size of each event (avalanche) for analysis.\n"
   ]
  },
  {
   "cell_type": "code",
   "execution_count": 8,
   "id": "201c015c",
   "metadata": {},
   "outputs": [
    {
     "name": "stdout",
     "output_type": "stream",
     "text": [
      "Simulation complete. Event history recorded.\n"
     ]
    }
   ],
   "source": [
    "\n",
    "# Parameters\n",
    "threshold = 1.0\n",
    "alpha = 0.2  # Non-conservative model; set to 0.25 for no dissipation.\n",
    "lattice_size = 100\n",
    "transient_steps = 10000\n",
    "num_events = 5000\n",
    "\n",
    "# Initialize and run the model\n",
    "model = OFC(threshold=threshold, alpha=alpha, lattice_size=lattice_size, rng_seed=1)\n",
    "event_history = model.simulate(num_events=num_events, transient=transient_steps)\n",
    "\n",
    "print(\"Simulation complete. Event history recorded.\")\n"
   ]
  },
  {
   "cell_type": "markdown",
   "id": "5a598004",
   "metadata": {},
   "source": [
    "\n",
    "### Plotting the Event Size Distribution\n",
    "Here we plot the distribution of avalanche sizes recorded during the simulation to visualize the power-law behavior often characteristic of such models.\n"
   ]
  },
  {
   "cell_type": "code",
   "execution_count": 9,
   "id": "e3683468",
   "metadata": {},
   "outputs": [
    {
     "data": {
      "image/png": "[encoded data removed]",
      "text/plain": [
       "<Figure size 1000x600 with 1 Axes>"
      ]
     },
     "metadata": {},
     "output_type": "display_data"
    }
   ],
   "source": [
    "\n",
    "plt.figure(figsize=(10, 6))\n",
    "plt.hist(event_history, bins=50, log=True, color='skyblue', edgecolor='black')\n",
    "plt.title('Event Size Distribution')\n",
    "plt.xlabel('Event Size')\n",
    "plt.ylabel('Frequency (log scale)')\n",
    "plt.show()\n"
   ]
  }
 ],
 "metadata": {
  "kernelspec": {
   "display_name": "Python 3",
   "language": "python",
   "name": "python3"
  },
  "language_info": {
   "codemirror_mode": {
    "name": "ipython",
    "version": 3
   },
   "file_extension": ".py",
   "mimetype": "text/x-python",
   "name": "python",
   "nbconvert_exporter": "python",
   "pygments_lexer": "ipython3",
   "version": "3.12.7"
  }
 },
 "nbformat": 4,
 "nbformat_minor": 5
}
