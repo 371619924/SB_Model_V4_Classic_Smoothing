{
 "cells": [
  {
   "cell_type": "code",
   "execution_count": 6,
   "metadata": {},
   "outputs": [],
   "source": [
    "import numpy as np\n",
    "import matplotlib.pyplot as plt\n",
    "\n",
    "from collections import deque"
   ]
  },
  {
   "cell_type": "markdown",
   "metadata": {},
   "source": [
    "### Define the model\n",
    "OFC model with variable threshold stress and dissipation parameter, alpha. It contains a lattice of sites with a value between 0 and threshold and a data structure to record the size of events. I also include a numpy generator for reproducibility.\n"
   ]
  },
  {
   "cell_type": "code",
   "execution_count": 7,
   "metadata": {},
   "outputs": [],
   "source": [
    "class OFC:  \n",
    "    def __init__(self, threshold, alpha, lattice_size, rng_seed=None):\n",
    "        #Used for setting up lattice and ensuring reproducibility\n",
    "        self.rng = np.random.default_rng(rng_seed)\n",
    "        self.threshold = threshold\n",
    "        self.alpha = alpha\n",
    "        self.lattice_size = lattice_size\n",
    "        #Initialize lattice with random values between 0 and threshold\n",
    "        self.lattice = self.threshold*self.rng.random((lattice_size, lattice_size))\n",
    "        self.event_history = []\n",
    "        \n",
    "    def get_neighbors(self, site):\n",
    "        #Get neighbors of a site assuming a square lattice and open boundary conditions\n",
    "        #Alternatives could be closed or periodic boundary conditions\n",
    "        Neighbors = []\n",
    "        if site[0] < (self.lattice_size-1):\n",
    "            Neighbors.append((site[0]+1, site[1]))\n",
    "        if site[1] < (self.lattice_size-1):\n",
    "            Neighbors.append((site[0], site[1]+1))\n",
    "        if site[0] > 0:\n",
    "            Neighbors.append((site[0]-1, site[1]))\n",
    "        if site[1] > 0:\n",
    "            Neighbors.append((site[0], site[1]-1))\n",
    "        return Neighbors\n",
    "    \n",
    "    def drive_plate(self):\n",
    "        #Used to keep track of sites that need to be checked\n",
    "        active_sites = deque()\n",
    "        #Find site with maximum stress and drive system to threshold \n",
    "        max_value = np.max(self.lattice)\n",
    "        active_sites.append(np.unravel_index(np.argmax(self.lattice), self.lattice.shape))\n",
    "        self.lattice += (self.threshold - max_value)\n",
    "        #propogate avalanche\n",
    "        event_size = 0\n",
    "        while len(active_sites) > 0:\n",
    "            current_site = active_sites.popleft()\n",
    "            if self.lattice[current_site] >= self.threshold:\n",
    "                #Site fails. Find neighbors, dissipate stress, and reset initial site\n",
    "                neighbors = self.get_neighbors(current_site)\n",
    "                for neighbor in neighbors:\n",
    "                    self.lattice[neighbor] += self.alpha*self.lattice[current_site]\n",
    "                    active_sites.append(neighbor)\n",
    "                self.lattice[current_site] = 0\n",
    "                #Increment event size by one since a site has failed\n",
    "                event_size += 1\n",
    "        #return size of avalanche\n",
    "        return event_size\n",
    "    \n",
    "    def simulate(self, num_events, transient=False):\n",
    "        #It is sometimes useful to run the model for a transient number of events to reach a steady state\n",
    "        #Set transient to number of events to run before recording avalanche sizes\n",
    "        if transient:\n",
    "            for i in range(transient):\n",
    "                _ = self.drive_plate()\n",
    "\n",
    "        for i in range(num_events):\n",
    "            event_size = self.drive_plate()\n",
    "            self.event_history.append(event_size)\n",
    "        return"
   ]
  },
  {
   "cell_type": "markdown",
   "metadata": {},
   "source": [
    "### Run Model\n",
    "Create instance of model and run simulation"
   ]
  },
  {
   "cell_type": "code",
   "execution_count": 8,
   "metadata": {},
   "outputs": [],
   "source": [
    "threshold = 1\n",
    "alpha = 0.2 #Non-conservative model. setting to 0.25 means no dissipation.\n",
    "lattice_size = 100\n",
    "transient = 10000\n",
    "num_events = 100000\n",
    "\n",
    "model = OFC(threshold=threshold, alpha=alpha, lattice_size=lattice_size, rng_seed=1)\n",
    "model.simulate(num_events, transient=transient)\n"
   ]
  },
  {
   "cell_type": "markdown",
   "metadata": {},
   "source": [
    "### Visualize Results\n",
    "Having run the simulation and record the size of num_events different events we can look at the frequency of different size events that occur. This should be a power law distribtuion so it is plotted on a log-log scale.\n"
   ]
  },
  {
   "cell_type": "code",
   "execution_count": 9,
   "metadata": {},
   "outputs": [
    {
     "data": {
      "image/png": "[encoded data removed]",
      "text/plain": [
       "<Figure size 640x480 with 1 Axes>"
      ]
     },
     "metadata": {},
     "output_type": "display_data"
    }
   ],
   "source": [
    "values, counts = np.unique(model.event_history, return_counts=True)\n",
    "plt.scatter(values, counts)\n",
    "plt.yscale('log')\n",
    "plt.xscale('log')\n",
    "plt.xlabel('Event Size')\n",
    "plt.ylabel('Frequency')\n",
    "plt.show()\n"
   ]
  },
  {
   "cell_type": "code",
   "execution_count": null,
   "metadata": {},
   "outputs": [],
   "source": []
  }
 ],
 "metadata": {
  "kernelspec": {
   "display_name": "Python 3",
   "language": "python",
   "name": "python3"
  },
  "language_info": {
   "codemirror_mode": {
    "name": "ipython",
    "version": 3
   },
   "file_extension": ".py",
   "mimetype": "text/x-python",
   "name": "python",
   "nbconvert_exporter": "python",
   "pygments_lexer": "ipython3",
   "version": "3.12.7"
  }
 },
 "nbformat": 4,
 "nbformat_minor": 2
}
